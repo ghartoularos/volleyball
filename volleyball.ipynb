{
 "cells": [
  {
   "cell_type": "markdown",
   "metadata": {},
   "source": [
    "# Introduction\n",
    "\n",
    "We were arguing one day over what is a good tournament style for volleyball, where we are rotating players through different teams, while ensuring that it was fair for everyone. Here's a notebook to generate a pretty good (but not necessarily optimal) set of _k_ games of doubles volleyball given _n_ players in attendance such that:\n",
    "\n",
    "1. Each player plays the same number of times.\n",
    "2. Each pair of players appears on the same team the same number of times. \n",
    "3. No two teams play each other more than once. "
   ]
  },
  {
   "cell_type": "markdown",
   "metadata": {},
   "source": [
    "# Imports"
   ]
  },
  {
   "cell_type": "code",
   "execution_count": 2,
   "metadata": {},
   "outputs": [],
   "source": [
    "import itertools as it\n",
    "import numpy as np\n",
    "from tqdm.notebook import tqdm\n",
    "import matplotlib.pyplot as plt\n",
    "import math"
   ]
  },
  {
   "cell_type": "markdown",
   "metadata": {},
   "source": [
    "# Definitions"
   ]
  },
  {
   "cell_type": "code",
   "execution_count": 3,
   "metadata": {},
   "outputs": [],
   "source": [
    "n = 6 # number of players in attendance  \n",
    "k = 12 # number of games  \n",
    "s = 100000 # number of simulations, see below"
   ]
  },
  {
   "cell_type": "markdown",
   "metadata": {},
   "source": [
    "# Theory"
   ]
  },
  {
   "cell_type": "markdown",
   "metadata": {},
   "source": [
    "There are \n",
    "\n",
    "$$ t =\\ _n C_2 $$ \n",
    "\n",
    "possible teams. \n",
    "\n",
    "Players are numbered 1 through $ n $. \n",
    "\n",
    "The number of games with $ t $ teams is naively $ _t C_2 $. However this includes many teams with players playing themselves, which are obviously impossible. To account for this, we determine that there are $ m = $ $ n-2 $ _other_ players for each team to play, and therefore \n",
    "\n",
    "$$ t_o =\\ _m C_2 $$ \n",
    "\n",
    "other possible teams to play for each team.\n",
    "\n",
    "The number of _possible_ games is then \n",
    "\n",
    "$$ \\frac{ t \\ \\ \\times \\ \\ t_o}{2} $$ \n",
    "\n",
    "where the division by 2 is to remove teams where the same teams play twice."
   ]
  },
  {
   "cell_type": "markdown",
   "metadata": {},
   "source": [
    "# Simulate"
   ]
  },
  {
   "cell_type": "code",
   "execution_count": 4,
   "metadata": {},
   "outputs": [],
   "source": [
    "possible_teams = list(it.combinations(range(1,n + 1), 2))"
   ]
  },
  {
   "cell_type": "markdown",
   "metadata": {},
   "source": [
    "Here are all the combinations of teams, but they include some \"impossible\" games because a player can't play against themself. "
   ]
  },
  {
   "cell_type": "code",
   "execution_count": 5,
   "metadata": {},
   "outputs": [],
   "source": [
    "impossible_games = list(it.combinations(possible_teams, 2))"
   ]
  },
  {
   "cell_type": "markdown",
   "metadata": {},
   "source": [
    "To eliminate those impossible games, remove games where the same player plays both games."
   ]
  },
  {
   "cell_type": "code",
   "execution_count": 6,
   "metadata": {},
   "outputs": [],
   "source": [
    "possible_games_bool = [not any([i in game[0] for i in game[1]]) for game in impossible_games]\n",
    "possible_games = [impossible_games[i] for i in range(len(impossible_games)) if possible_games_bool[i] == True]"
   ]
  },
  {
   "cell_type": "code",
   "execution_count": 7,
   "metadata": {},
   "outputs": [
    {
     "data": {
      "text/plain": [
       "45"
      ]
     },
     "execution_count": 7,
     "metadata": {},
     "output_type": "execute_result"
    }
   ],
   "source": [
    "len(possible_games)"
   ]
  },
  {
   "cell_type": "markdown",
   "metadata": {},
   "source": [
    "This checks out with the theory:"
   ]
  },
  {
   "cell_type": "code",
   "execution_count": 8,
   "metadata": {},
   "outputs": [
    {
     "name": "stdout",
     "output_type": "stream",
     "text": [
      "45.0\n"
     ]
    }
   ],
   "source": [
    "print((len(list(it.combinations(range(n), 2))) * len(list(it.combinations(range(n - 2), 2))))/2)"
   ]
  },
  {
   "cell_type": "markdown",
   "metadata": {},
   "source": [
    "# Practical Solution"
   ]
  },
  {
   "cell_type": "markdown",
   "metadata": {},
   "source": [
    "Unfortunately, even with just 6 players, 45 games is too many to play in a single day and with only one volleyball net. If you only have one net available, you may want to reduce the total number of games. Therefore, you can use the following brute force algorithm to find a set of $ k $ games from the possible games that have a relatively low variance in the number of games played per player and the number of times each pair of players play with each other."
   ]
  },
  {
   "cell_type": "markdown",
   "metadata": {},
   "source": [
    "This solution simulates $ s $ sets of $ k $ games and calculates a score which is the sum of the standard deviation of the number of games player per player and the standard deviations of the number of times each team plays (i.e. the number of times each pair of players play together). We choose not to cycle through all possible sets because the sample space is likely too large:"
   ]
  },
  {
   "cell_type": "code",
   "execution_count": 9,
   "metadata": {},
   "outputs": [
    {
     "data": {
      "text/plain": [
       "28760021745.0"
      ]
     },
     "execution_count": 9,
     "metadata": {},
     "output_type": "execute_result"
    }
   ],
   "source": [
    "g = len(possible_games)\n",
    "r = k\n",
    "math.factorial(g)/((math.factorial(r)*math.factorial(g - r)))"
   ]
  },
  {
   "cell_type": "markdown",
   "metadata": {},
   "source": [
    "Initialize lists:"
   ]
  },
  {
   "cell_type": "code",
   "execution_count": 10,
   "metadata": {},
   "outputs": [],
   "source": [
    "games_sets_list = list()\n",
    "player_games_counts_list = list()\n",
    "team_games_counts_list = list()\n",
    "\n",
    "# std_devs_player_list = list()\n",
    "# std_devs_teams_list = list()\n",
    "scores_list = list()"
   ]
  },
  {
   "cell_type": "markdown",
   "metadata": {},
   "source": [
    "Run the simulations:"
   ]
  },
  {
   "cell_type": "code",
   "execution_count": 11,
   "metadata": {},
   "outputs": [
    {
     "data": {
      "application/vnd.jupyter.widget-view+json": {
       "model_id": "b8b8c0752f944852a663f6da0eb9a819",
       "version_major": 2,
       "version_minor": 0
      },
      "text/plain": [
       "HBox(children=(FloatProgress(value=0.0, max=100000.0), HTML(value='')))"
      ]
     },
     "metadata": {},
     "output_type": "display_data"
    },
    {
     "name": "stdout",
     "output_type": "stream",
     "text": [
      "\n"
     ]
    }
   ],
   "source": [
    "for _ in tqdm(range(s)):\n",
    "    game_set = np.random.choice(range(len(possible_games)), size=k, replace=False)\n",
    "    game_set = [possible_games[i] for i in game_set]\n",
    "    \n",
    "    games_array = np.array(game_set)\n",
    "    teams = games_array.reshape(games_array.shape[0]*2,2)\n",
    "    team_games = np.empty(len(teams), dtype=object)\n",
    "    team_games[:] = list(map(tuple, teams))\n",
    "\n",
    "\n",
    "    player_games_counts = np.unique(np.ravel(game_set), return_counts=True)\n",
    "    team_games_counts = np.unique(np.ravel(team_games), return_counts=True)\n",
    "    \n",
    "    games_sets_list.append(game_set)\n",
    "    player_games_counts_list.append(player_games_counts)\n",
    "    team_games_counts_list.append(team_games_counts)\n",
    "    \n",
    "    std_dev_player = np.std(player_games_counts[1])\n",
    "    std_dev_team = np.std(team_games_counts[1])\n",
    "    \n",
    "#     std_devs_player_list.append(std_dev_player)\n",
    "#     std_devs_team_list.append(np.std(std_dev_team))\n",
    "    scores_list.append(std_dev_player + std_dev_team)"
   ]
  },
  {
   "cell_type": "markdown",
   "metadata": {},
   "source": [
    "Visualize the distribution of scores:"
   ]
  },
  {
   "cell_type": "code",
   "execution_count": 14,
   "metadata": {},
   "outputs": [
    {
     "data": {
      "image/png": "[encoded data removed]",
      "text/plain": [
       "<Figure size 432x288 with 1 Axes>"
      ]
     },
     "metadata": {
      "needs_background": "light"
     },
     "output_type": "display_data"
    }
   ],
   "source": [
    "plt.hist(scores_list, bins=100);\n",
    "plt.title('Scores of Simulations')\n",
    "plt.xlabel('Score (sum of standard deviations)')\n",
    "plt.ylabel('Density');\n",
    "plt.yscale('log')"
   ]
  },
  {
   "cell_type": "markdown",
   "metadata": {},
   "source": [
    "Print the results in order from best to worst. To stop, use _Kernel > Interrupt Kernel_ from the main menu."
   ]
  },
  {
   "cell_type": "code",
   "execution_count": null,
   "metadata": {},
   "outputs": [],
   "source": [
    "idx_ordered = np.argsort(scores_list)\n",
    "for i, idx in enumerate(idx_ordered):\n",
    "    print('SET #%d, SCORE = %s' % (i, str(scores_list[idx])))\n",
    "    games_set = games_sets_list[idx]\n",
    "    print('GAMES (%d):' % len(games_set))\n",
    "    for game in games_set:\n",
    "        print(' & '.join([str(i) for i in game[0]]) + ' vs. ' + ' & '.join([str(i) for i in game[1]]))\n",
    "    print('')\n",
    "    print('PlAYER GAMES COUNTS:')\n",
    "    for player, counts in zip(player_games_counts_list[idx][0], player_games_counts_list[idx][1]):\n",
    "        print('Player %d plays %d game(s).' % (player, counts))\n",
    "    print('')\n",
    "    print('TEAM GAMES COUNTS:')\n",
    "    for team, counts in zip(team_games_counts_list[idx][0], team_games_counts_list[idx][1]):\n",
    "        print('Team %s plays %d game(s).' % (str(team), counts))\n",
    "    print('')\n",
    "    print('')\n",
    "    input('Create a new set? (Click any button)')\n",
    "    print('')\n",
    "    print('')"
   ]
  },
  {
   "cell_type": "code",
   "execution_count": 15,
   "metadata": {},
   "outputs": [],
   "source": [
    "chosen_game = games_sets_list[idx_ordered[0]]"
   ]
  },
  {
   "cell_type": "code",
   "execution_count": 16,
   "metadata": {},
   "outputs": [
    {
     "data": {
      "text/plain": [
       "[((1, 2), (4, 6)),\n",
       " ((1, 6), (2, 4)),\n",
       " ((1, 3), (4, 5)),\n",
       " ((2, 4), (5, 6)),\n",
       " ((1, 4), (3, 5)),\n",
       " ((2, 3), (4, 6)),\n",
       " ((1, 4), (2, 3)),\n",
       " ((1, 3), (2, 5)),\n",
       " ((2, 5), (3, 6)),\n",
       " ((1, 2), (5, 6)),\n",
       " ((3, 6), (4, 5)),\n",
       " ((1, 6), (3, 5))]"
      ]
     },
     "execution_count": 16,
     "metadata": {},
     "output_type": "execute_result"
    }
   ],
   "source": [
    "chosen_game"
   ]
  },
  {
   "cell_type": "markdown",
   "metadata": {},
   "source": [
    "# Ordering"
   ]
  },
  {
   "cell_type": "markdown",
   "metadata": {},
   "source": [
    "Another thing we may want to consider is the order in which the games are reported. Tayar? Das all u bro."
   ]
  },
  {
   "cell_type": "markdown",
   "metadata": {},
   "source": [
    "Sample space:"
   ]
  },
  {
   "cell_type": "code",
   "execution_count": 17,
   "metadata": {},
   "outputs": [
    {
     "data": {
      "text/plain": [
       "479001600"
      ]
     },
     "execution_count": 17,
     "metadata": {},
     "output_type": "execute_result"
    }
   ],
   "source": [
    "math.factorial(k)"
   ]
  },
  {
   "cell_type": "code",
   "execution_count": null,
   "metadata": {},
   "outputs": [],
   "source": []
  },
  {
   "cell_type": "code",
   "execution_count": null,
   "metadata": {},
   "outputs": [],
   "source": []
  },
  {
   "cell_type": "code",
   "execution_count": null,
   "metadata": {},
   "outputs": [],
   "source": []
  },
  {
   "cell_type": "code",
   "execution_count": null,
   "metadata": {},
   "outputs": [],
   "source": []
  },
  {
   "cell_type": "code",
   "execution_count": null,
   "metadata": {},
   "outputs": [],
   "source": []
  },
  {
   "cell_type": "code",
   "execution_count": null,
   "metadata": {},
   "outputs": [],
   "source": []
  },
  {
   "cell_type": "code",
   "execution_count": null,
   "metadata": {},
   "outputs": [],
   "source": []
  },
  {
   "cell_type": "code",
   "execution_count": null,
   "metadata": {},
   "outputs": [],
   "source": []
  },
  {
   "cell_type": "code",
   "execution_count": null,
   "metadata": {},
   "outputs": [],
   "source": []
  },
  {
   "cell_type": "markdown",
   "metadata": {},
   "source": [
    "# Disclaimer "
   ]
  },
  {
   "cell_type": "markdown",
   "metadata": {},
   "source": [
    "While this algorithm produces good results, it does not necessarily produce an optimal result. We can run it on a while loop until `score = 0`, but I don't know how to guarentee there is an optimal solution given $ n $ players and $ k $ games, so you might be running endlessly. I will say anecdotally that with 6 players and 12 games, I was able to find a set of games that was perfect, even though running this code last weekend several times I did not find it. In any case, should be good enough for beach volleyball anyway! "
   ]
  },
  {
   "cell_type": "markdown",
   "metadata": {},
   "source": [
    "`SET #0, SCORE = 0.0`\\\n",
    "`GAMES (12):`\\\n",
    "`1 & 2 vs. 4 & 6`\\\n",
    "`1 & 6 vs. 2 & 4`\\\n",
    "`1 & 3 vs. 4 & 5`\\\n",
    "`2 & 4 vs. 5 & 6`\\\n",
    "`1 & 4 vs. 3 & 5`\\\n",
    "`2 & 3 vs. 4 & 6`\\\n",
    "`1 & 4 vs. 2 & 3`\\\n",
    "`1 & 3 vs. 2 & 5`\\\n",
    "`2 & 5 vs. 3 & 6`\\\n",
    "`1 & 2 vs. 5 & 6`\\\n",
    "`3 & 6 vs. 4 & 5`\\\n",
    "`1 & 6 vs. 3 & 5`\\\n",
    "`PlAYER GAMES COUNTS:`\\\n",
    "`Player 1 plays 8 game(s).`\\\n",
    "`Player 2 plays 8 game(s).`\\\n",
    "`Player 3 plays 8 game(s).`\\\n",
    "`Player 4 plays 8 game(s).`\\\n",
    "`Player 5 plays 8 game(s).`\\\n",
    "`Player 6 plays 8 game(s).`\\\n",
    "`TEAM GAMES COUNTS:`\\\n",
    "`Team (1, 2) plays 2 game(s).`\\\n",
    "`Team (1, 3) plays 2 game(s).`\\\n",
    "`Team (1, 4) plays 2 game(s).`\\\n",
    "`Team (1, 6) plays 2 game(s).`\\\n",
    "`Team (2, 3) plays 2 game(s).`\\\n",
    "`Team (2, 4) plays 2 game(s).`\\\n",
    "`Team (2, 5) plays 2 game(s).`\\\n",
    "`Team (3, 5) plays 2 game(s).`\\\n",
    "`Team (3, 6) plays 2 game(s).`\\\n",
    "`Team (4, 5) plays 2 game(s).`\\\n",
    "`Team (4, 6) plays 2 game(s).`\\\n",
    "`Team (5, 6) plays 2 game(s).`"
   ]
  },
  {
   "cell_type": "code",
   "execution_count": null,
   "metadata": {},
   "outputs": [],
   "source": []
  }
 ],
 "metadata": {
  "kernelspec": {
   "display_name": "codec",
   "language": "python",
   "name": "codec"
  },
  "language_info": {
   "codemirror_mode": {
    "name": "ipython",
    "version": 3
   },
   "file_extension": ".py",
   "mimetype": "text/x-python",
   "name": "python",
   "nbconvert_exporter": "python",
   "pygments_lexer": "ipython3",
   "version": "3.6.10"
  }
 },
 "nbformat": 4,
 "nbformat_minor": 4
}
